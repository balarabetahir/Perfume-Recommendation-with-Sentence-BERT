{
 "cells": [
  {
   "cell_type": "code",
   "execution_count": 2,
   "id": "7e7eb620",
   "metadata": {},
   "outputs": [],
   "source": [
    "import warnings\n",
    "warnings.filterwarnings('ignore')\n",
    "\n",
    "import numpy as np\n",
    "from numpy.linalg import norm\n",
    "import pandas as pd\n",
    "import matplotlib.pyplot as plt\n",
    "import seaborn as sns\n",
    "%matplotlib inline\n",
    "\n",
    "from sklearn.decomposition import PCA\n",
    "from sentence_transformers import SentenceTransformer\n",
    "from sentence_transformers import util\n",
    "\n",
    "\n",
    "import skillsnetwork\n",
    "\n",
    "sns.set_context('notebook')\n",
    "sns.set_style('white')"
   ]
  },
  {
   "cell_type": "code",
   "execution_count": 3,
   "id": "7b256e58",
   "metadata": {},
   "outputs": [],
   "source": [
    "# This function will allow us to easily plot data taking in x values, y values, and a title\n",
    "def plotter(x, y, title):\n",
    "    plt.plot(x, y)\n",
    "    plt.xlabel('X')\n",
    "    plt.ylabel('Y')\n",
    "    plt.title(title)\n",
    "    plt.show()"
   ]
  },
  {
   "cell_type": "code",
   "execution_count": 4,
   "id": "ec9e3fcc",
   "metadata": {},
   "outputs": [],
   "source": [
    "sentences = ['This framework generates embeddings for each input sentence',\n",
    "            'Sentences are passed as a list of string.',\n",
    "            'The quick brown fox jumps over the lazy dog.']"
   ]
  },
  {
   "cell_type": "code",
   "execution_count": 5,
   "id": "ae501332",
   "metadata": {},
   "outputs": [
    {
     "data": {
      "application/vnd.jupyter.widget-view+json": {
       "model_id": "a93a46d2e0994e0e832188d21d2def79",
       "version_major": 2,
       "version_minor": 0
      },
      "text/plain": [
       "Downloading:   0%|          | 0.00/1.18k [00:00<?, ?B/s]"
      ]
     },
     "metadata": {},
     "output_type": "display_data"
    },
    {
     "data": {
      "application/vnd.jupyter.widget-view+json": {
       "model_id": "eaa34d744b5b4cf6b744e66b326ff5fc",
       "version_major": 2,
       "version_minor": 0
      },
      "text/plain": [
       "Downloading:   0%|          | 0.00/190 [00:00<?, ?B/s]"
      ]
     },
     "metadata": {},
     "output_type": "display_data"
    },
    {
     "data": {
      "application/vnd.jupyter.widget-view+json": {
       "model_id": "e430bbde1f5a4999a44ad3304211054f",
       "version_major": 2,
       "version_minor": 0
      },
      "text/plain": [
       "Downloading:   0%|          | 0.00/10.6k [00:00<?, ?B/s]"
      ]
     },
     "metadata": {},
     "output_type": "display_data"
    },
    {
     "data": {
      "application/vnd.jupyter.widget-view+json": {
       "model_id": "94e4decb456e435d9b4221e60a2540de",
       "version_major": 2,
       "version_minor": 0
      },
      "text/plain": [
       "Downloading:   0%|          | 0.00/612 [00:00<?, ?B/s]"
      ]
     },
     "metadata": {},
     "output_type": "display_data"
    },
    {
     "data": {
      "application/vnd.jupyter.widget-view+json": {
       "model_id": "dbb2095d142c48a6a851afbef6cf49d4",
       "version_major": 2,
       "version_minor": 0
      },
      "text/plain": [
       "Downloading:   0%|          | 0.00/116 [00:00<?, ?B/s]"
      ]
     },
     "metadata": {},
     "output_type": "display_data"
    },
    {
     "data": {
      "application/vnd.jupyter.widget-view+json": {
       "model_id": "d05d934f6ff74ea5b39b3dec6c1eaf96",
       "version_major": 2,
       "version_minor": 0
      },
      "text/plain": [
       "Downloading:   0%|          | 0.00/39.3k [00:00<?, ?B/s]"
      ]
     },
     "metadata": {},
     "output_type": "display_data"
    },
    {
     "data": {
      "application/vnd.jupyter.widget-view+json": {
       "model_id": "617bba12e8584567b1d569ffa805e919",
       "version_major": 2,
       "version_minor": 0
      },
      "text/plain": [
       "Downloading:   0%|          | 0.00/90.9M [00:00<?, ?B/s]"
      ]
     },
     "metadata": {},
     "output_type": "display_data"
    },
    {
     "data": {
      "application/vnd.jupyter.widget-view+json": {
       "model_id": "4276233c3c9449f3957fa281d967355d",
       "version_major": 2,
       "version_minor": 0
      },
      "text/plain": [
       "Downloading:   0%|          | 0.00/53.0 [00:00<?, ?B/s]"
      ]
     },
     "metadata": {},
     "output_type": "display_data"
    },
    {
     "data": {
      "application/vnd.jupyter.widget-view+json": {
       "model_id": "ec790178f76040c08ea4ebe01ea62eb0",
       "version_major": 2,
       "version_minor": 0
      },
      "text/plain": [
       "Downloading:   0%|          | 0.00/112 [00:00<?, ?B/s]"
      ]
     },
     "metadata": {},
     "output_type": "display_data"
    },
    {
     "data": {
      "application/vnd.jupyter.widget-view+json": {
       "model_id": "3c97d5f7a69646958c262b3451ede887",
       "version_major": 2,
       "version_minor": 0
      },
      "text/plain": [
       "Downloading:   0%|          | 0.00/466k [00:00<?, ?B/s]"
      ]
     },
     "metadata": {},
     "output_type": "display_data"
    },
    {
     "data": {
      "application/vnd.jupyter.widget-view+json": {
       "model_id": "a2259a876b38496ab359cb8bf8d480a9",
       "version_major": 2,
       "version_minor": 0
      },
      "text/plain": [
       "Downloading:   0%|          | 0.00/350 [00:00<?, ?B/s]"
      ]
     },
     "metadata": {},
     "output_type": "display_data"
    },
    {
     "data": {
      "application/vnd.jupyter.widget-view+json": {
       "model_id": "dccb266dc5544109a4d3dd3c3a93521b",
       "version_major": 2,
       "version_minor": 0
      },
      "text/plain": [
       "Downloading:   0%|          | 0.00/13.2k [00:00<?, ?B/s]"
      ]
     },
     "metadata": {},
     "output_type": "display_data"
    },
    {
     "data": {
      "application/vnd.jupyter.widget-view+json": {
       "model_id": "b8b18980c0604c109d445a518c533c82",
       "version_major": 2,
       "version_minor": 0
      },
      "text/plain": [
       "Downloading:   0%|          | 0.00/232k [00:00<?, ?B/s]"
      ]
     },
     "metadata": {},
     "output_type": "display_data"
    },
    {
     "data": {
      "application/vnd.jupyter.widget-view+json": {
       "model_id": "c23aed2eed114c38ae7124e3f6139fa7",
       "version_major": 2,
       "version_minor": 0
      },
      "text/plain": [
       "Downloading:   0%|          | 0.00/349 [00:00<?, ?B/s]"
      ]
     },
     "metadata": {},
     "output_type": "display_data"
    }
   ],
   "source": [
    "model = SentenceTransformer('all-MiniLM-L6-v2')"
   ]
  },
  {
   "cell_type": "code",
   "execution_count": 6,
   "id": "4226f5d2",
   "metadata": {},
   "outputs": [
    {
     "data": {
      "text/plain": [
       "(3, 384)"
      ]
     },
     "execution_count": 6,
     "metadata": {},
     "output_type": "execute_result"
    }
   ],
   "source": [
    "embeddings = model.encode(sentences, convert_to_numpy=True) # By default, convert_to_numpy = True\n",
    "embeddings.shape"
   ]
  },
  {
   "cell_type": "code",
   "execution_count": 7,
   "id": "c89c9163",
   "metadata": {},
   "outputs": [
    {
     "data": {
      "text/plain": [
       "array([-0.01371737, -0.04285155, -0.01562863,  0.01405372,  0.03955376,\n",
       "        0.12179627,  0.02943339, -0.03175241,  0.03549598, -0.07931399,\n",
       "        0.01758785, -0.040437  ,  0.04972593,  0.02549125, -0.07187009,\n",
       "        0.08149686,  0.00147073,  0.04796273, -0.04503362, -0.09921747,\n",
       "       -0.02817699,  0.06450462,  0.04446704, -0.0476217 , -0.03529524,\n",
       "        0.04386716, -0.05285661,  0.00043304,  0.10192148,  0.01640721,\n",
       "        0.03269964, -0.03459866,  0.01213393,  0.07948709,  0.00458343,\n",
       "        0.01577783, -0.00968205,  0.02876256, -0.05058063, -0.01557938,\n",
       "       -0.02879068, -0.00962281,  0.03155569,  0.02273489,  0.08714496,\n",
       "       -0.03850271, -0.08847182, -0.00875499, -0.02123434,  0.02089235],\n",
       "      dtype=float32)"
      ]
     },
     "execution_count": 7,
     "metadata": {},
     "output_type": "execute_result"
    }
   ],
   "source": [
    "embeddings[0][:50]"
   ]
  },
  {
   "cell_type": "markdown",
   "id": "7c13fda2",
   "metadata": {},
   "source": [
    "# SBERT for Analyzing Semantic Textual Similarity (STS"
   ]
  },
  {
   "cell_type": "code",
   "execution_count": 8,
   "id": "d64bb488",
   "metadata": {},
   "outputs": [],
   "source": [
    "sentences = ['The cat sits outside',\n",
    "             'A man is playing guitar',\n",
    "             'I love pasta',\n",
    "             'The new movie is awesome',\n",
    "             'The cat plays in the garden',\n",
    "             'A woman watches TV',\n",
    "             'The new movie is so great',\n",
    "             'Do you like pizza?']\n",
    "\n",
    "embeddings = model.encode(sentences, convert_to_numpy=True) "
   ]
  },
  {
   "cell_type": "markdown",
   "id": "e42ac41a",
   "metadata": {},
   "source": [
    "# 𝑠𝑖𝑚𝑖𝑙𝑎𝑟𝑖𝑡𝑦=𝐴⋅𝐵||𝐴||⋅||𝐵||"
   ]
  },
  {
   "cell_type": "code",
   "execution_count": 9,
   "id": "0f798913",
   "metadata": {},
   "outputs": [],
   "source": [
    "def cosine_similarity(a, b):\n",
    "    \n",
    "    score = np.dot(a, b) / (norm(a) * norm(b))\n",
    "    \n",
    "    return score"
   ]
  },
  {
   "cell_type": "code",
   "execution_count": 10,
   "id": "0ba0616f",
   "metadata": {},
   "outputs": [
    {
     "data": {
      "text/plain": [
       "0.03633034"
      ]
     },
     "execution_count": 10,
     "metadata": {},
     "output_type": "execute_result"
    }
   ],
   "source": [
    "cosine_similarity(embeddings[0], embeddings[1])"
   ]
  },
  {
   "cell_type": "code",
   "execution_count": 11,
   "id": "d36531bc",
   "metadata": {},
   "outputs": [
    {
     "data": {
      "text/plain": [
       "0.89390385"
      ]
     },
     "execution_count": 11,
     "metadata": {},
     "output_type": "execute_result"
    }
   ],
   "source": [
    "cosine_similarity(embeddings[3], embeddings[6])"
   ]
  },
  {
   "cell_type": "code",
   "execution_count": 12,
   "id": "d16fedaa",
   "metadata": {},
   "outputs": [
    {
     "data": {
      "text/plain": [
       "torch.Size([8, 8])"
      ]
     },
     "execution_count": 12,
     "metadata": {},
     "output_type": "execute_result"
    }
   ],
   "source": [
    "cosine_scores = util.cos_sim(embeddings, embeddings)\n",
    "cosine_scores.shape"
   ]
  },
  {
   "cell_type": "code",
   "execution_count": 13,
   "id": "c03cd3e6",
   "metadata": {},
   "outputs": [
    {
     "data": {
      "text/plain": [
       "28"
      ]
     },
     "execution_count": 13,
     "metadata": {},
     "output_type": "execute_result"
    }
   ],
   "source": [
    "pairs = []\n",
    "\n",
    "for i in range(len(cosine_scores)-1): # 0, 1, 2, 3, 4, 5, 6\n",
    "    for j in range(i+1, len(cosine_scores)): # 1-7, 2-7, 3-7, 4-7, 5-7, 6-7, 7\n",
    "        pairs.append({'index': [i,j], 'score': cosine_scores[i][j]})\n",
    "        \n",
    "len(pairs)"
   ]
  },
  {
   "cell_type": "code",
   "execution_count": 14,
   "id": "ed2e060d",
   "metadata": {},
   "outputs": [
    {
     "name": "stdout",
     "output_type": "stream",
     "text": [
      "The new movie is awesome | The new movie is so great \n",
      " Score: 0.89 \n",
      "\n",
      "The cat sits outside | The cat plays in the garden \n",
      " Score: 0.68 \n",
      "\n",
      "I love pasta | Do you like pizza? \n",
      " Score: 0.51 \n",
      "\n"
     ]
    }
   ],
   "source": [
    "sorted_pairs = sorted(pairs, key=lambda x: x['score'], reverse=True)\n",
    "\n",
    "for pair in sorted_pairs[0:3]:\n",
    "    i, j = pair['index']\n",
    "    print(f\"{sentences[i]} | {sentences[j]} \\n Score: {pair['score']:.2f} \\n\")"
   ]
  },
  {
   "cell_type": "code",
   "execution_count": 16,
   "id": "14e7f82f",
   "metadata": {},
   "outputs": [],
   "source": [
    "pca = PCA(n_components=2)\n",
    "embeddings_reduced = pca.fit_transform(embeddings)"
   ]
  },
  {
   "cell_type": "code",
   "execution_count": 17,
   "id": "0bfb77ed",
   "metadata": {},
   "outputs": [
    {
     "data": {
      "image/png": "[encoded data removed]",
      "text/plain": [
       "<Figure size 640x480 with 1 Axes>"
      ]
     },
     "metadata": {},
     "output_type": "display_data"
    }
   ],
   "source": [
    "for coord, sentence in zip(embeddings_reduced, sentences):\n",
    "\n",
    "    plt.scatter(coord[0], coord[1])\n",
    "    plt.annotate(sentence, (coord[0], coord[1]))"
   ]
  },
  {
   "cell_type": "markdown",
   "id": "9d764a69",
   "metadata": {},
   "source": [
    "# Use Case of SBERT Embeddings - Perfume Recommendation"
   ]
  },
  {
   "cell_type": "code",
   "execution_count": 19,
   "id": "f1413423",
   "metadata": {},
   "outputs": [
    {
     "data": {
      "text/plain": [
       "<coroutine object prepare at 0x000002792D32E6C0>"
      ]
     },
     "execution_count": 19,
     "metadata": {},
     "output_type": "execute_result"
    }
   ],
   "source": [
    "skillsnetwork.prepare(\"https://cf-courses-data.s3.us.cloud-object-storage.appdomain.cloud/IBM-GPXX068IEN/data/perfume_data.tgz\", overwrite=True)"
   ]
  },
  {
   "cell_type": "code",
   "execution_count": 20,
   "id": "3715ac7d",
   "metadata": {},
   "outputs": [
    {
     "data": {
      "text/html": [
       "<div>\n",
       "<style scoped>\n",
       "    .dataframe tbody tr th:only-of-type {\n",
       "        vertical-align: middle;\n",
       "    }\n",
       "\n",
       "    .dataframe tbody tr th {\n",
       "        vertical-align: top;\n",
       "    }\n",
       "\n",
       "    .dataframe thead th {\n",
       "        text-align: right;\n",
       "    }\n",
       "</style>\n",
       "<table border=\"1\" class=\"dataframe\">\n",
       "  <thead>\n",
       "    <tr style=\"text-align: right;\">\n",
       "      <th></th>\n",
       "      <th>Name</th>\n",
       "      <th>Brand</th>\n",
       "      <th>Description</th>\n",
       "      <th>Notes</th>\n",
       "      <th>Image URL</th>\n",
       "    </tr>\n",
       "  </thead>\n",
       "  <tbody>\n",
       "    <tr>\n",
       "      <th>0</th>\n",
       "      <td>Tihota Eau de Parfum</td>\n",
       "      <td>Indult</td>\n",
       "      <td>Rapa Nui for sugar, Tihota is, quite simply, ...</td>\n",
       "      <td>Vanilla bean, musks</td>\n",
       "      <td>https://static.luckyscent.com/images/products/...</td>\n",
       "    </tr>\n",
       "    <tr>\n",
       "      <th>1</th>\n",
       "      <td>Sola Parfum</td>\n",
       "      <td>Di Ser</td>\n",
       "      <td>A tribute to the expanse of space extending f...</td>\n",
       "      <td>Lavender, Yuzu, Lemongrass, Magnolia, Geraniu...</td>\n",
       "      <td>https://static.luckyscent.com/images/products/...</td>\n",
       "    </tr>\n",
       "    <tr>\n",
       "      <th>2</th>\n",
       "      <td>Kagiroi Parfum</td>\n",
       "      <td>Di Ser</td>\n",
       "      <td>An aromatic ode to the ancient beauty of Japa...</td>\n",
       "      <td>Green yuzu, green shikuwasa, sansho seed, cor...</td>\n",
       "      <td>https://static.luckyscent.com/images/products/...</td>\n",
       "    </tr>\n",
       "    <tr>\n",
       "      <th>3</th>\n",
       "      <td>Velvet Fantasy Eau de Parfum</td>\n",
       "      <td>Montale</td>\n",
       "      <td>Velvet Fantasy is a solar fragrance where cit...</td>\n",
       "      <td>tangerine,  pink pepper,  black coffee,  leat...</td>\n",
       "      <td>https://static.luckyscent.com/images/products/...</td>\n",
       "    </tr>\n",
       "    <tr>\n",
       "      <th>4</th>\n",
       "      <td>A Blvd. Called Sunset Eau de Parfum</td>\n",
       "      <td>A Lab on Fire</td>\n",
       "      <td>There's no way A Lab On Fire could relocate t...</td>\n",
       "      <td>Bergamot, almond, violet, jasmine, leather, s...</td>\n",
       "      <td>https://static.luckyscent.com/images/products/...</td>\n",
       "    </tr>\n",
       "  </tbody>\n",
       "</table>\n",
       "</div>"
      ],
      "text/plain": [
       "                                  Name          Brand  \\\n",
       "0                 Tihota Eau de Parfum         Indult   \n",
       "1                          Sola Parfum         Di Ser   \n",
       "2                       Kagiroi Parfum         Di Ser   \n",
       "3         Velvet Fantasy Eau de Parfum        Montale   \n",
       "4  A Blvd. Called Sunset Eau de Parfum  A Lab on Fire   \n",
       "\n",
       "                                         Description  \\\n",
       "0   Rapa Nui for sugar, Tihota is, quite simply, ...   \n",
       "1   A tribute to the expanse of space extending f...   \n",
       "2   An aromatic ode to the ancient beauty of Japa...   \n",
       "3   Velvet Fantasy is a solar fragrance where cit...   \n",
       "4   There's no way A Lab On Fire could relocate t...   \n",
       "\n",
       "                                               Notes  \\\n",
       "0                                Vanilla bean, musks   \n",
       "1   Lavender, Yuzu, Lemongrass, Magnolia, Geraniu...   \n",
       "2   Green yuzu, green shikuwasa, sansho seed, cor...   \n",
       "3   tangerine,  pink pepper,  black coffee,  leat...   \n",
       "4   Bergamot, almond, violet, jasmine, leather, s...   \n",
       "\n",
       "                                           Image URL  \n",
       "0  https://static.luckyscent.com/images/products/...  \n",
       "1  https://static.luckyscent.com/images/products/...  \n",
       "2  https://static.luckyscent.com/images/products/...  \n",
       "3  https://static.luckyscent.com/images/products/...  \n",
       "4  https://static.luckyscent.com/images/products/...  "
      ]
     },
     "execution_count": 20,
     "metadata": {},
     "output_type": "execute_result"
    }
   ],
   "source": [
    "df = pd.read_csv(\"./perfume_data.csv\", encoding=\"unicode_escape\")\n",
    "df.head()"
   ]
  },
  {
   "cell_type": "code",
   "execution_count": 21,
   "id": "94d990e3",
   "metadata": {},
   "outputs": [
    {
     "data": {
      "text/plain": [
       "[' Vanilla bean, musks',\n",
       " ' Lavender, Yuzu, Lemongrass, Magnolia, Geranium, Jasmine, Frankincense, Myrrh',\n",
       " ' Green yuzu, green shikuwasa, sansho seed, coriander, ylang-ylang, shiso, rosewood, vetiver, hinoki, cypriol, patchouli, agarwood',\n",
       " ' tangerine,  pink pepper,  black coffee,  leather,  violet,  jasmine,  lily of the valley,  heliotrope powder,  vanilla,  amber, sandalwood,  toffee,  musk,  oakmoss',\n",
       " ' Bergamot, almond, violet, jasmine, leather, sandalwood, vanilla, tonka',\n",
       " ' Orange flower, neroli, honeysuckle, warm milk, pastry, salicylates, sandalwood, vanilla bean, heliotrope',\n",
       " ' Timur JE, Soap Foam Accord (Aldehydes & Musk), Pink Pepper, Jasmine e-pure, Rose Superessence, Lily-of-the-valley Accord, Patchouli, Moss Absolute, Sandalwood Accord & Orcanox',\n",
       " ' Tobacco, hay, elemi, copaiba, olibanum, nutmeg, black pepper, castoreum, atlas cedar, oakmoss, cognac, ambroxan, norlimbanol, cinnamon, cumin seed, ash',\n",
       " ' Saffron, champaca, fir balsam, beeswax, amber, damask rose, rose de mai, tobacco, leather, dark chocolate, prune, oud, musk, oakmoss, ambrette, smoke, incense, ylang ylang',\n",
       " ' Cambodian oud, Trat oud, jasmin sambac, champaca, olibanum, turmeric, clove, caraway, cardamom, cinnamon, cumin, coriander, gardenia, opoponax, saffron, sandalwood, patchouli, musk']"
      ]
     },
     "execution_count": 21,
     "metadata": {},
     "output_type": "execute_result"
    }
   ],
   "source": [
    "list(df.Notes[0:10])"
   ]
  },
  {
   "cell_type": "code",
   "execution_count": 22,
   "id": "9eafbf52",
   "metadata": {},
   "outputs": [
    {
     "data": {
      "text/html": [
       "<div>\n",
       "<style scoped>\n",
       "    .dataframe tbody tr th:only-of-type {\n",
       "        vertical-align: middle;\n",
       "    }\n",
       "\n",
       "    .dataframe tbody tr th {\n",
       "        vertical-align: top;\n",
       "    }\n",
       "\n",
       "    .dataframe thead th {\n",
       "        text-align: right;\n",
       "    }\n",
       "</style>\n",
       "<table border=\"1\" class=\"dataframe\">\n",
       "  <thead>\n",
       "    <tr style=\"text-align: right;\">\n",
       "      <th></th>\n",
       "      <th>Name</th>\n",
       "      <th>Notes</th>\n",
       "    </tr>\n",
       "  </thead>\n",
       "  <tbody>\n",
       "    <tr>\n",
       "      <th>0</th>\n",
       "      <td>Indult - Tihota Eau de Parfum</td>\n",
       "      <td>Vanilla bean, musks</td>\n",
       "    </tr>\n",
       "    <tr>\n",
       "      <th>1</th>\n",
       "      <td>Di Ser - Sola Parfum</td>\n",
       "      <td>Lavender, Yuzu, Lemongrass, Magnolia, Geraniu...</td>\n",
       "    </tr>\n",
       "    <tr>\n",
       "      <th>2</th>\n",
       "      <td>Di Ser - Kagiroi Parfum</td>\n",
       "      <td>Green yuzu, green shikuwasa, sansho seed, cor...</td>\n",
       "    </tr>\n",
       "    <tr>\n",
       "      <th>3</th>\n",
       "      <td>Montale - Velvet Fantasy Eau de Parfum</td>\n",
       "      <td>tangerine,  pink pepper,  black coffee,  leat...</td>\n",
       "    </tr>\n",
       "    <tr>\n",
       "      <th>4</th>\n",
       "      <td>A Lab on Fire - A Blvd. Called Sunset Eau de P...</td>\n",
       "      <td>Bergamot, almond, violet, jasmine, leather, s...</td>\n",
       "    </tr>\n",
       "  </tbody>\n",
       "</table>\n",
       "</div>"
      ],
      "text/plain": [
       "                                                Name  \\\n",
       "0                      Indult - Tihota Eau de Parfum   \n",
       "1                               Di Ser - Sola Parfum   \n",
       "2                            Di Ser - Kagiroi Parfum   \n",
       "3             Montale - Velvet Fantasy Eau de Parfum   \n",
       "4  A Lab on Fire - A Blvd. Called Sunset Eau de P...   \n",
       "\n",
       "                                               Notes  \n",
       "0                                Vanilla bean, musks  \n",
       "1   Lavender, Yuzu, Lemongrass, Magnolia, Geraniu...  \n",
       "2   Green yuzu, green shikuwasa, sansho seed, cor...  \n",
       "3   tangerine,  pink pepper,  black coffee,  leat...  \n",
       "4   Bergamot, almond, violet, jasmine, leather, s...  "
      ]
     },
     "execution_count": 22,
     "metadata": {},
     "output_type": "execute_result"
    }
   ],
   "source": [
    "df.rename(columns={\"ï»¿Name\": \"Name\"}, inplace=True)\n",
    "df['Name'] = df['Brand'] + \" - \" + df['Name']\n",
    "df.drop(labels=['Description', 'Image URL', 'Brand'], axis=1, inplace=True)\n",
    "df.head()"
   ]
  },
  {
   "cell_type": "code",
   "execution_count": 23,
   "id": "b0e80e2c",
   "metadata": {},
   "outputs": [
    {
     "data": {
      "text/plain": [
       "80"
      ]
     },
     "execution_count": 23,
     "metadata": {},
     "output_type": "execute_result"
    }
   ],
   "source": [
    "df.Notes.isnull().sum()"
   ]
  },
  {
   "cell_type": "code",
   "execution_count": 24,
   "id": "9c5b057c",
   "metadata": {},
   "outputs": [
    {
     "data": {
      "text/plain": [
       "(2111, 2)"
      ]
     },
     "execution_count": 24,
     "metadata": {},
     "output_type": "execute_result"
    }
   ],
   "source": [
    "df.dropna(inplace = True)\n",
    "df.reset_index(inplace=True, drop = True)\n",
    "df.shape"
   ]
  },
  {
   "cell_type": "code",
   "execution_count": 25,
   "id": "37c3ef0c",
   "metadata": {},
   "outputs": [],
   "source": [
    "words = [\"Perfume Oil\", \"Extrait\", \"Travel\", \"Hair\", \"Body\", \"Hand\", \"Intense\", \"Intensivo\", \"Oil\"] # check for these words in perfume names\n",
    "\n",
    "index_to_drop = []\n",
    "for index, name in enumerate(df.Name):\n",
    "    if any(word.lower() in name.lower() for word in words):\n",
    "        index_to_drop.append(index)"
   ]
  },
  {
   "cell_type": "code",
   "execution_count": 26,
   "id": "08ed91bf",
   "metadata": {},
   "outputs": [
    {
     "data": {
      "text/plain": [
       "(1612, 2)"
      ]
     },
     "execution_count": 26,
     "metadata": {},
     "output_type": "execute_result"
    }
   ],
   "source": [
    "df.drop(index_to_drop, axis=0, inplace=True)\n",
    "df.reset_index(inplace=True, drop = True)\n",
    "df.shape"
   ]
  },
  {
   "cell_type": "markdown",
   "id": "3b6a5b08",
   "metadata": {},
   "source": [
    "# Creating Perfume Notes Embeddings"
   ]
  },
  {
   "cell_type": "code",
   "execution_count": 27,
   "id": "7dc2c7e0",
   "metadata": {},
   "outputs": [
    {
     "data": {
      "text/plain": [
       "1612"
      ]
     },
     "execution_count": 27,
     "metadata": {},
     "output_type": "execute_result"
    }
   ],
   "source": [
    "df.Notes = df.Notes.apply(lambda x: str(x))\n",
    "notes = df.Notes.to_list()\n",
    "len(notes)"
   ]
  },
  {
   "cell_type": "code",
   "execution_count": 28,
   "id": "b0a1ebeb",
   "metadata": {},
   "outputs": [
    {
     "data": {
      "application/vnd.jupyter.widget-view+json": {
       "model_id": "c0c261f9ad4a4df78fd58ce62391d85e",
       "version_major": 2,
       "version_minor": 0
      },
      "text/plain": [
       "Batches:   0%|          | 0/26 [00:00<?, ?it/s]"
      ]
     },
     "metadata": {},
     "output_type": "display_data"
    }
   ],
   "source": [
    "model = SentenceTransformer('all-MiniLM-L6-v2')\n",
    "\n",
    "note_embeddings = model.encode(notes, show_progress_bar=True, batch_size=64)"
   ]
  },
  {
   "cell_type": "code",
   "execution_count": 29,
   "id": "92213c05",
   "metadata": {},
   "outputs": [
    {
     "name": "stdout",
     "output_type": "stream",
     "text": [
      "(1612, 384)\n",
      "[-0.00921524 -0.00588333  0.07965603  0.01108184  0.0920339  -0.06118878\n",
      "  0.06980839  0.04193391  0.01312284 -0.00108816  0.06511044 -0.08008223\n",
      "  0.01984981 -0.13829458 -0.02251236 -0.00748578  0.12410549  0.06448846\n",
      "  0.00684044 -0.01724513  0.04117164  0.01706347  0.00854874  0.06719033\n",
      " -0.05611396  0.01932547  0.02498643 -0.02417995 -0.03028038 -0.12058594\n",
      " -0.01737692  0.03183731  0.01314924  0.02147919 -0.10208161  0.0320526\n",
      " -0.01535685 -0.02603945  0.06542445 -0.01513855  0.01592387 -0.06788438\n",
      "  0.01501888 -0.01736868 -0.06789885 -0.01907123  0.01838118 -0.0566425\n",
      " -0.00130135 -0.01895572]\n"
     ]
    }
   ],
   "source": [
    "print(note_embeddings.shape)\n",
    "\n",
    "print(note_embeddings[0][:50]) # first 50 values in the embedding of \"Vanilla bean, musks\""
   ]
  },
  {
   "cell_type": "markdown",
   "id": "3428d3ca",
   "metadata": {},
   "source": [
    "# Recommending Perfumes using Cosine Similarity"
   ]
  },
  {
   "cell_type": "code",
   "execution_count": 30,
   "id": "78a9f87c",
   "metadata": {},
   "outputs": [
    {
     "data": {
      "text/plain": [
       "torch.Size([1612, 1612])"
      ]
     },
     "execution_count": 30,
     "metadata": {},
     "output_type": "execute_result"
    }
   ],
   "source": [
    "cosine_scores = util.cos_sim(note_embeddings, note_embeddings)\n",
    "cosine_scores.shape"
   ]
  },
  {
   "cell_type": "code",
   "execution_count": 31,
   "id": "78a31735",
   "metadata": {},
   "outputs": [
    {
     "data": {
      "text/plain": [
       "1298466"
      ]
     },
     "execution_count": 31,
     "metadata": {},
     "output_type": "execute_result"
    }
   ],
   "source": [
    "pairs = []\n",
    "\n",
    "for i in range(len(cosine_scores)-1):\n",
    "    for j in range(i+1, len(cosine_scores)):\n",
    "        pairs.append({\"index\": [i,j], \"score\": cosine_scores[i][j]})\n",
    "\n",
    "len(pairs)"
   ]
  },
  {
   "cell_type": "code",
   "execution_count": 32,
   "id": "811014ca",
   "metadata": {},
   "outputs": [
    {
     "data": {
      "text/plain": [
       "1298466"
      ]
     },
     "execution_count": 32,
     "metadata": {},
     "output_type": "execute_result"
    }
   ],
   "source": [
    "pairs = []\n",
    "\n",
    "for i in range(len(cosine_scores)-1):\n",
    "    for j in range(i+1, len(cosine_scores)):\n",
    "        pairs.append({\"index\": [i,j], \"score\": cosine_scores[i][j]})\n",
    "\n",
    "len(pairs)"
   ]
  },
  {
   "cell_type": "code",
   "execution_count": null,
   "id": "89ad2c0f",
   "metadata": {},
   "outputs": [],
   "source": [
    "sorted_pairs = sorted(pairs, key=lambda x: x['score'], reverse=True)\n",
    "\n",
    "for pair in sorted_pairs[0:10]:\n",
    "    i, j = pair['index']\n",
    "    print(f\"{df.iloc[i, 0]} | {df.iloc[j, 0]} \\n Score: {pair['score']:.2f} \\n\")"
   ]
  },
  {
   "cell_type": "code",
   "execution_count": null,
   "id": "4121e9c0",
   "metadata": {},
   "outputs": [],
   "source": []
  }
 ],
 "metadata": {
  "kernelspec": {
   "display_name": "Python 3 (ipykernel)",
   "language": "python",
   "name": "python3"
  },
  "language_info": {
   "codemirror_mode": {
    "name": "ipython",
    "version": 3
   },
   "file_extension": ".py",
   "mimetype": "text/x-python",
   "name": "python",
   "nbconvert_exporter": "python",
   "pygments_lexer": "ipython3",
   "version": "3.10.9"
  }
 },
 "nbformat": 4,
 "nbformat_minor": 5
}
